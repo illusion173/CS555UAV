{
  "nbformat": 4,
  "nbformat_minor": 0,
  "metadata": {
    "colab": {
      "provenance": [],
      "authorship_tag": "ABX9TyMo32bNlD8VA5Qc32fIkq/z",
      "include_colab_link": true
    },
    "kernelspec": {
      "name": "python3",
      "display_name": "Python 3"
    },
    "language_info": {
      "name": "python"
    }
  },
  "cells": [
    {
      "cell_type": "markdown",
      "metadata": {
        "id": "view-in-github",
        "colab_type": "text"
      },
      "source": [
        "<a href=\"https://colab.research.google.com/github/illusion173/CS555UAV/blob/main/CS555Proj.ipynb\" target=\"_parent\"><img src=\"https://colab.research.google.com/assets/colab-badge.svg\" alt=\"Open In Colab\"/></a>"
      ]
    },
    {
      "cell_type": "code",
      "execution_count": 4,
      "metadata": {
        "id": "0eGLsv5Xag4p",
        "outputId": "0677d812-5263-45a6-ee22-7e8c0e3dc480",
        "colab": {
          "base_uri": "https://localhost:8080/"
        }
      },
      "outputs": [
        {
          "output_type": "stream",
          "name": "stdout",
          "text": [
            "Mounted at /content/drive/\n",
            "/content/drive/MyDrive\n",
            "replace /tmp/dataset_xml_format/dataset_xml_format/foto00088.png? [y]es, [n]o, [A]ll, [N]one, [r]ename: "
          ]
        }
      ],
      "source": [
        "# Import needed forms\n",
        "import os\n",
        "import collections\n",
        "import pandas as pd\n",
        "import numpy as np\n",
        "import functools\n",
        "import matplotlib.pyplot as plt\n",
        "import cv2\n",
        "from PIL import Image\n",
        "import tensorflow as tf\n",
        "from sklearn.model_selection import train_test_split\n",
        "import warnings\n",
        "import zipfile\n",
        "from google.colab import drive\n",
        "\n"
      ]
    },
    {
      "cell_type": "markdown",
      "source": [
        "**GOOGLE DRIVE MOUNTING/UNZIPPING OF DATASET**"
      ],
      "metadata": {
        "id": "q0mnF5CqwBft"
      }
    },
    {
      "cell_type": "code",
      "source": [
        "# DO NOT TOUCH PLEASE, loc of your zip file should match this\n",
        "# the zip should be in the root of your google drive.\n",
        "\n",
        "GOOGLE_DRIVE_DATA_DIR_PATH = \"/content/drive/\"\n",
        "drive.mount(GOOGLE_DRIVE_DATA_DIR_PATH, force_remount=True)\n",
        "%cd /content/drive/MyDrive/\n",
        "# Unzip the file into /tmp using -d, shouldn't take too long <1 min\n",
        "!unzip -q \"uav_datasets.zip\" -d /tmp"
      ],
      "metadata": {
        "id": "WGHxCFZFv8sc"
      },
      "execution_count": null,
      "outputs": []
    },
    {
      "cell_type": "markdown",
      "source": [
        "**DATA INGESTION/ORGANIZATION**"
      ],
      "metadata": {
        "id": "YbDyNZt2v_Ya"
      }
    },
    {
      "cell_type": "code",
      "source": [
        "# KEEP NOTE THAT THE DIRECTORIES MADE IN THIS CELL ARE IN THE /tmp dir and WILL BE DELETED\n",
        "TRAIN_IMAGES_FOLDER = \"/tmp/train/images\"\n",
        "TRAIN_LABELS_FOLDER = \"/tmp/train/labels\"\n",
        "VAL_IMAGES_FOLDER = \"/tmp/val/images\"\n",
        "VAL_LABELS_FOLDER = \"/tmp/val/labels\"\n",
        "os.makedirs(TRAIN_IMAGES_FOLDER, exist_ok=True)\n",
        "os.makedirs(TRAIN_LABELS_FOLDER, exist_ok=True)\n",
        "os.makedirs(VAL_IMAGES_FOLDER, exist_ok=True)\n",
        "os.makedirs(VAL_LABELS_FOLDER, exist_ok=True)"
      ],
      "metadata": {
        "id": "WxwJEW7Yux14"
      },
      "execution_count": 5,
      "outputs": []
    },
    {
      "cell_type": "code",
      "source": [
        "# Creating necessary lists for organizing the files\n",
        "images = []\n",
        "labels = []\n"
      ],
      "metadata": {
        "id": "40ft-0lLeBkx"
      },
      "execution_count": null,
      "outputs": []
    },
    {
      "cell_type": "code",
      "source": [
        "# Assigning necessary split for the training/testing 80/20\n"
      ],
      "metadata": {
        "id": "_8sOiGxduQqE"
      },
      "execution_count": null,
      "outputs": []
    }
  ]
}