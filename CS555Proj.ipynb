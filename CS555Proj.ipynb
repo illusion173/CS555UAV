{
  "nbformat": 4,
  "nbformat_minor": 0,
  "metadata": {
    "colab": {
      "provenance": [],
      "authorship_tag": "ABX9TyOLysVY/nWyLc+niRKd2o7p",
      "include_colab_link": true
    },
    "kernelspec": {
      "name": "python3",
      "display_name": "Python 3"
    },
    "language_info": {
      "name": "python"
    }
  },
  "cells": [
    {
      "cell_type": "markdown",
      "metadata": {
        "id": "view-in-github",
        "colab_type": "text"
      },
      "source": [
        "<a href=\"https://colab.research.google.com/github/illusion173/CS555UAV/blob/main/CS555Proj.ipynb\" target=\"_parent\"><img src=\"https://colab.research.google.com/assets/colab-badge.svg\" alt=\"Open In Colab\"/></a>"
      ]
    },
    {
      "cell_type": "code",
      "execution_count": 1,
      "metadata": {
        "id": "0eGLsv5Xag4p",
        "colab": {
          "base_uri": "https://localhost:8080/"
        },
        "outputId": "222bd1a5-9c7f-4d04-f907-51c97ec5b93d"
      },
      "outputs": [
        {
          "output_type": "stream",
          "name": "stdout",
          "text": [
            "Hello World!\n"
          ]
        }
      ],
      "source": [
        "print(\"Hello World!\")"
      ]
    },
    {
      "cell_type": "code",
      "source": [
        "# Write something here then post it to github to see if the integration works\n",
        "# - Thanks"
      ],
      "metadata": {
        "id": "40ft-0lLeBkx"
      },
      "execution_count": 2,
      "outputs": []
    }
  ]
}